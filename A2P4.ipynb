{
 "cells": [
  {
   "cell_type": "code",
   "execution_count": 5,
   "id": "04ef1195",
   "metadata": {},
   "outputs": [],
   "source": [
    "import numpy as np\n",
    "from numpy import exp, log"
   ]
  },
  {
   "cell_type": "code",
   "execution_count": 12,
   "id": "8b17f990",
   "metadata": {},
   "outputs": [],
   "source": [
    "# 1\n",
    "def sigma_1(t: int)-> tuple:\n",
    "    return exp(t)/(1+exp(t)), 'sigma(t)'\n",
    "\n",
    "# 2\n",
    "def sigma_2(t: int)-> tuple:\n",
    "    return 1/(1+exp(-t)), 'sigma(t)'\n",
    "\n",
    "# 3\n",
    "def log_sigma_3(t: int)-> tuple:\n",
    "    return log(1+exp(-t)), '-ln(sigma(t))'\n",
    "\n",
    "# 4\n",
    "def log_sigma_4(t: int)-> tuple:\n",
    "    if t <= 0:\n",
    "        return -t + log(1+exp(t)), '-ln(sigma(t))'\n",
    "    if t > 0:\n",
    "        return log(1+exp(-t)), '-ln(sigma(t))'"
   ]
  },
  {
   "cell_type": "code",
   "execution_count": 13,
   "id": "75d0a06f",
   "metadata": {},
   "outputs": [],
   "source": [
    "tset = [0,10,-10,100,-100,500,-500,1000,-1000]"
   ]
  },
  {
   "cell_type": "code",
   "execution_count": null,
   "id": "f98e9f4d",
   "metadata": {},
   "outputs": [],
   "source": [
    "for t in range():\n",
    "    print(f't: {t}')"
   ]
  }
 ],
 "metadata": {
  "kernelspec": {
   "display_name": "Python 3 (ipykernel)",
   "language": "python",
   "name": "python3"
  },
  "language_info": {
   "codemirror_mode": {
    "name": "ipython",
    "version": 3
   },
   "file_extension": ".py",
   "mimetype": "text/x-python",
   "name": "python",
   "nbconvert_exporter": "python",
   "pygments_lexer": "ipython3",
   "version": "3.10.6"
  }
 },
 "nbformat": 4,
 "nbformat_minor": 5
}
