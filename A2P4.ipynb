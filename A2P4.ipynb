{
 "cells": [
  {
   "cell_type": "code",
   "execution_count": 1,
   "id": "04ef1195",
   "metadata": {},
   "outputs": [],
   "source": [
    "import numpy as np\n",
    "from numpy import exp, log"
   ]
  },
  {
   "cell_type": "code",
   "execution_count": 5,
   "id": "8b17f990",
   "metadata": {},
   "outputs": [],
   "source": [
    "# 1\n",
    "def sigma_1(t: int)-> tuple:\n",
    "    return exp(t)/(1+exp(t)), f'sigma(t) = exp(t)/(1+exp(t)), t={t}'\n",
    "\n",
    "# 2\n",
    "def sigma_2(t: int)-> tuple:\n",
    "    return 1/(1+exp(-t)), f'sigma(t) = 1/(1+exp(-t)), t={t}'\n",
    "\n",
    "# 3\n",
    "def log_sigma_3(t: int)-> tuple:\n",
    "    return log(1+exp(-t)), f'-ln(sigma(t)) = log(1+exp(-t)), t={t}'\n",
    "\n",
    "# 4\n",
    "def log_sigma_4(t: int)-> tuple:\n",
    "    if t <= 0:\n",
    "        return -t + log(1+exp(t)), f'-ln(sigma_4(t)) = -t + log(1+exp(t)), t={t}'\n",
    "    if t > 0:\n",
    "        return log(1+exp(-t)), f'-ln(sigma_4(t)) = log(1+exp(-t)), t={t}'"
   ]
  },
  {
   "cell_type": "code",
   "execution_count": 6,
   "id": "b4c256b4",
   "metadata": {},
   "outputs": [],
   "source": [
    "tset = [0,10,-10,100,-100,500,-500,1000,-1000]"
   ]
  },
  {
   "cell_type": "code",
   "execution_count": 7,
   "id": "79dc469c",
   "metadata": {},
   "outputs": [
    {
     "name": "stdout",
     "output_type": "stream",
     "text": [
      "t: 0, (0.5, 'sigma(t) = exp(t)/(1+exp(t)), t=0')\n",
      "t: 0, (0.5, 'sigma(t) = 1/(1+exp(-t)), t=0')\n",
      "t: 0, (0.6931471805599453, '-ln(sigma(t)) = log(1+exp(-t)), t=0')\n",
      "t: 0, (0.6931471805599453, '-ln(sigma_4(t)) = -t + log(1+exp(t)), t=0')\n",
      "t: 10, (0.9999546021312976, 'sigma(t) = exp(t)/(1+exp(t)), t=10')\n",
      "t: 10, (0.9999546021312976, 'sigma(t) = 1/(1+exp(-t)), t=10')\n",
      "t: 10, (4.5398899216870535e-05, '-ln(sigma(t)) = log(1+exp(-t)), t=10')\n",
      "t: 10, (4.5398899216870535e-05, '-ln(sigma_4(t)) = log(1+exp(-t)), t=10')\n",
      "t: -10, (4.5397868702434395e-05, 'sigma(t) = exp(t)/(1+exp(t)), t=-10')\n",
      "t: -10, (4.5397868702434395e-05, 'sigma(t) = 1/(1+exp(-t)), t=-10')\n",
      "t: -10, (10.000045398899218, '-ln(sigma(t)) = log(1+exp(-t)), t=-10')\n",
      "t: -10, (10.000045398899218, '-ln(sigma_4(t)) = -t + log(1+exp(t)), t=-10')\n",
      "t: 100, (1.0, 'sigma(t) = exp(t)/(1+exp(t)), t=100')\n",
      "t: 100, (1.0, 'sigma(t) = 1/(1+exp(-t)), t=100')\n",
      "t: 100, (0.0, '-ln(sigma(t)) = log(1+exp(-t)), t=100')\n",
      "t: 100, (0.0, '-ln(sigma_4(t)) = log(1+exp(-t)), t=100')\n",
      "t: -100, (3.720075976020836e-44, 'sigma(t) = exp(t)/(1+exp(t)), t=-100')\n",
      "t: -100, (3.7200759760208356e-44, 'sigma(t) = 1/(1+exp(-t)), t=-100')\n",
      "t: -100, (100.0, '-ln(sigma(t)) = log(1+exp(-t)), t=-100')\n",
      "t: -100, (100.0, '-ln(sigma_4(t)) = -t + log(1+exp(t)), t=-100')\n",
      "t: 500, (1.0, 'sigma(t) = exp(t)/(1+exp(t)), t=500')\n",
      "t: 500, (1.0, 'sigma(t) = 1/(1+exp(-t)), t=500')\n",
      "t: 500, (0.0, '-ln(sigma(t)) = log(1+exp(-t)), t=500')\n",
      "t: 500, (0.0, '-ln(sigma_4(t)) = log(1+exp(-t)), t=500')\n",
      "t: -500, (7.124576406741286e-218, 'sigma(t) = exp(t)/(1+exp(t)), t=-500')\n",
      "t: -500, (7.124576406741285e-218, 'sigma(t) = 1/(1+exp(-t)), t=-500')\n",
      "t: -500, (500.0, '-ln(sigma(t)) = log(1+exp(-t)), t=-500')\n",
      "t: -500, (500.0, '-ln(sigma_4(t)) = -t + log(1+exp(t)), t=-500')\n",
      "t: 1000, (nan, 'sigma(t) = exp(t)/(1+exp(t)), t=1000')\n",
      "t: 1000, (1.0, 'sigma(t) = 1/(1+exp(-t)), t=1000')\n",
      "t: 1000, (0.0, '-ln(sigma(t)) = log(1+exp(-t)), t=1000')\n",
      "t: 1000, (0.0, '-ln(sigma_4(t)) = log(1+exp(-t)), t=1000')\n",
      "t: -1000, (0.0, 'sigma(t) = exp(t)/(1+exp(t)), t=-1000')\n",
      "t: -1000, (0.0, 'sigma(t) = 1/(1+exp(-t)), t=-1000')\n",
      "t: -1000, (inf, '-ln(sigma(t)) = log(1+exp(-t)), t=-1000')\n",
      "t: -1000, (1000.0, '-ln(sigma_4(t)) = -t + log(1+exp(t)), t=-1000')\n"
     ]
    },
    {
     "name": "stderr",
     "output_type": "stream",
     "text": [
      "/var/folders/br/p4vyyhqs7kg9vnb50rbzwr4r0000gp/T/ipykernel_99817/1026281176.py:3: RuntimeWarning: overflow encountered in exp\n",
      "  return exp(t)/(1+exp(t)), f'sigma(t) = exp(t)/(1+exp(t)), t={t}'\n",
      "/var/folders/br/p4vyyhqs7kg9vnb50rbzwr4r0000gp/T/ipykernel_99817/1026281176.py:3: RuntimeWarning: invalid value encountered in double_scalars\n",
      "  return exp(t)/(1+exp(t)), f'sigma(t) = exp(t)/(1+exp(t)), t={t}'\n",
      "/var/folders/br/p4vyyhqs7kg9vnb50rbzwr4r0000gp/T/ipykernel_99817/1026281176.py:7: RuntimeWarning: overflow encountered in exp\n",
      "  return 1/(1+exp(-t)), f'sigma(t) = 1/(1+exp(-t)), t={t}'\n",
      "/var/folders/br/p4vyyhqs7kg9vnb50rbzwr4r0000gp/T/ipykernel_99817/1026281176.py:11: RuntimeWarning: overflow encountered in exp\n",
      "  return log(1+exp(-t)), f'-ln(sigma(t)) = log(1+exp(-t)), t={t}'\n"
     ]
    }
   ],
   "source": [
    "for t in tset:\n",
    "    print(f't: {t}, {sigma_1(t=t)}')\n",
    "    print(f't: {t}, {sigma_2(t=t)}')\n",
    "    print(f't: {t}, {log_sigma_3(t=t)}')\n",
    "    print(f't: {t}, {log_sigma_4(t=t)}')"
   ]
  },
  {
   "cell_type": "code",
   "execution_count": null,
   "id": "fa308d34",
   "metadata": {},
   "outputs": [],
   "source": []
  }
 ],
 "metadata": {
  "kernelspec": {
   "display_name": "Python 3 (ipykernel)",
   "language": "python",
   "name": "python3"
  },
  "language_info": {
   "codemirror_mode": {
    "name": "ipython",
    "version": 3
   },
   "file_extension": ".py",
   "mimetype": "text/x-python",
   "name": "python",
   "nbconvert_exporter": "python",
   "pygments_lexer": "ipython3",
   "version": "3.10.8"
  }
 },
 "nbformat": 4,
 "nbformat_minor": 5
}
