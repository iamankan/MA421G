{
 "cells": [
  {
   "cell_type": "code",
   "execution_count": 2,
   "id": "f3f4b8f6",
   "metadata": {},
   "outputs": [],
   "source": [
    "import numpy as np"
   ]
  },
  {
   "cell_type": "code",
   "execution_count": 3,
   "id": "2285f2fc",
   "metadata": {},
   "outputs": [],
   "source": [
    "# implementing Newton's iteration to minimize f(x)\n",
    "eps_const = 10e-6"
   ]
  },
  {
   "cell_type": "code",
   "execution_count": 4,
   "id": "0d6c1e69",
   "metadata": {},
   "outputs": [],
   "source": [
    "# Equation: 2x1**2 + x2**2 - 2x1*x2 + 2x1**3 + x1**4\n",
    "def calc_df(x1: float, x2: float) -> np.ndarray:\n",
    "    df = np.array([[(4*x1)-(2*x2)+(6*pow(x1,2))+(4*pow(x1,3))],[(2*x2)-(2*x1)]])\n",
    "    return df"
   ]
  },
  {
   "cell_type": "code",
   "execution_count": 48,
   "id": "76d4fe79",
   "metadata": {},
   "outputs": [],
   "source": [
    "def calc_hessian(x1: float, x2: float) -> np.ndarray:\n",
    "    hess = np.array([[(12*pow(x1,2)+(12*x1)+4),-2],[-2,2]])\n",
    "    return hess\n",
    "\n",
    "def calc_prereq(x0: np.ndarray) -> tuple:\n",
    "    del_f = calc_df(x0[0][0], x0[1][0])\n",
    "    H_f = calc_hessian(x0[0][0], x0[1][0])\n",
    "    return del_f, H_f"
   ]
  },
  {
   "cell_type": "code",
   "execution_count": 50,
   "id": "d0ce972e",
   "metadata": {},
   "outputs": [],
   "source": [
    "\n",
    "def newton(x0: np.ndarray, del_f: np.ndarray, H_f: np.ndarray, eps: float = 1e-6, max_iter: int=100):\n",
    "    x = [x0]\n",
    "    for k in range(max_iter):\n",
    "        norm_2 = np.linalg.norm(x=del_f, ord=2)\n",
    "        if norm_2 < eps:\n",
    "            return x, k, x[-1]\n",
    "        d = np.linalg.solve(H_f, del_f)\n",
    "        x.append(x[k] - d)\n",
    "        del_f = calc_df(x[k+1][0][0], x[k+1][1][0])\n",
    "        H_f = calc_hessian(x[k+1][0][0], x[k+1][1][0])\n",
    "    print(f'k:{k}')\n",
    "    return x, k, x[-1]\n",
    "\n",
    "def newton_pipeline(x0: np.ndarray, eps: float = 1e-6, max_iter: int=100):\n",
    "    del_f, H_f = calc_prereq(x0)\n",
    "    return newton(x0, del_f, H_f)"
   ]
  },
  {
   "cell_type": "code",
   "execution_count": 51,
   "id": "3a260fde",
   "metadata": {},
   "outputs": [],
   "source": [
    "x0=[np.array([[1],[1]]), np.array([[1],[-1]]), np.array([[2],[-2]])]"
   ]
  },
  {
   "cell_type": "code",
   "execution_count": 52,
   "id": "6c6e0d20",
   "metadata": {},
   "outputs": [],
   "source": [
    "ans = []\n",
    "for xi in x0:\n",
    "    ans.append([newton_pipeline(x0=xi)])"
   ]
  },
  {
   "cell_type": "code",
   "execution_count": 53,
   "id": "03246766",
   "metadata": {},
   "outputs": [
    {
     "data": {
      "text/plain": [
       "3"
      ]
     },
     "execution_count": 53,
     "metadata": {},
     "output_type": "execute_result"
    }
   ],
   "source": [
    "len(ans)"
   ]
  },
  {
   "cell_type": "code",
   "execution_count": 54,
   "id": "1f8ef0c9",
   "metadata": {},
   "outputs": [
    {
     "data": {
      "text/plain": [
       "[([array([[1],\n",
       "          [1]]),\n",
       "   array([[0.53846154],\n",
       "          [0.53846154]]),\n",
       "   array([[0.25028589],\n",
       "          [0.25028589]]),\n",
       "   array([[0.08710246],\n",
       "          [0.08710246]]),\n",
       "   array([[0.01620003],\n",
       "          [0.01620003]]),\n",
       "   array([[0.00073202],\n",
       "          [0.00073202]]),\n",
       "   array([[1.60210289e-06],\n",
       "          [1.60210289e-06]]),\n",
       "   array([[7.70014343e-12],\n",
       "          [7.70014343e-12]])],\n",
       "  7,\n",
       "  array([[7.70014343e-12],\n",
       "         [7.70014343e-12]]))]"
      ]
     },
     "execution_count": 54,
     "metadata": {},
     "output_type": "execute_result"
    }
   ],
   "source": [
    "ans[0]"
   ]
  },
  {
   "cell_type": "code",
   "execution_count": 55,
   "id": "2cd4e6ae",
   "metadata": {},
   "outputs": [
    {
     "data": {
      "text/plain": [
       "[([array([[ 2],\n",
       "          [-2]]),\n",
       "   array([[1.18918919],\n",
       "          [1.18918919]]),\n",
       "   array([[0.66000444],\n",
       "          [0.66000444]]),\n",
       "   array([[0.32439061],\n",
       "          [0.32439061]]),\n",
       "   array([[0.12640158],\n",
       "          [0.12640158]]),\n",
       "   array([[0.03020608],\n",
       "          [0.03020608]]),\n",
       "   array([[0.00239946],\n",
       "          [0.00239946]]),\n",
       "   array([[1.70809427e-05],\n",
       "          [1.70809427e-05]]),\n",
       "   array([[8.7520605e-10],\n",
       "          [8.7520605e-10]])],\n",
       "  8,\n",
       "  array([[8.7520605e-10],\n",
       "         [8.7520605e-10]]))]"
      ]
     },
     "execution_count": 55,
     "metadata": {},
     "output_type": "execute_result"
    }
   ],
   "source": [
    "ans[2]"
   ]
  },
  {
   "cell_type": "code",
   "execution_count": null,
   "id": "dda90adb",
   "metadata": {},
   "outputs": [],
   "source": []
  },
  {
   "cell_type": "code",
   "execution_count": null,
   "id": "197d0612",
   "metadata": {},
   "outputs": [],
   "source": []
  }
 ],
 "metadata": {
  "kernelspec": {
   "display_name": "Python 3 (ipykernel)",
   "language": "python",
   "name": "python3"
  },
  "language_info": {
   "codemirror_mode": {
    "name": "ipython",
    "version": 3
   },
   "file_extension": ".py",
   "mimetype": "text/x-python",
   "name": "python",
   "nbconvert_exporter": "python",
   "pygments_lexer": "ipython3",
   "version": "3.10.8"
  }
 },
 "nbformat": 4,
 "nbformat_minor": 5
}
