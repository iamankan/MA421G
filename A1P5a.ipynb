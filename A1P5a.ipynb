{
 "cells": [
  {
   "cell_type": "code",
   "execution_count": 2,
   "id": "f3f4b8f6",
   "metadata": {},
   "outputs": [],
   "source": [
    "import numpy as np"
   ]
  },
  {
   "cell_type": "code",
   "execution_count": 5,
   "id": "2285f2fc",
   "metadata": {},
   "outputs": [],
   "source": [
    "# implementing Newton's iteration to minimize f(x)\n",
    "eps_const = 1e-6"
   ]
  },
  {
   "cell_type": "code",
   "execution_count": 6,
   "id": "0d6c1e69",
   "metadata": {},
   "outputs": [],
   "source": [
    "# Equation: 2x1**2 + x2**2 - 2x1*x2 + 2x1**3 + x1**4\n",
    "def calc_df(x1: float, x2: float) -> np.ndarray:\n",
    "    df = np.array([[(4*x1)-(2*x2)+(6*pow(x1,2))+(4*pow(x1,3))],[(2*x2)-(2*x1)]])\n",
    "    return df"
   ]
  },
  {
   "cell_type": "code",
   "execution_count": 7,
   "id": "76d4fe79",
   "metadata": {},
   "outputs": [],
   "source": [
    "def calc_hessian(x1: float, x2: float) -> np.ndarray:\n",
    "    hess = np.array([[(12*pow(x1,2)+(12*x1)+4),-2],[-2,2]])\n",
    "    return hess\n",
    "\n",
    "def calc_prereq(x0: np.ndarray) -> tuple:\n",
    "    del_f = calc_df(x0[0][0], x0[1][0])\n",
    "    H_f = calc_hessian(x0[0][0], x0[1][0])\n",
    "    return del_f, H_f"
   ]
  },
  {
   "cell_type": "code",
   "execution_count": 8,
   "id": "d0ce972e",
   "metadata": {},
   "outputs": [],
   "source": [
    "def newton(x0: np.ndarray, del_f: np.ndarray, H_f: np.ndarray, eps: float = 1e-6, max_iter: int=100):\n",
    "    x = [x0]\n",
    "    for k in range(max_iter):\n",
    "        norm_2 = np.linalg.norm(x=del_f, ord=2)\n",
    "        if norm_2 < eps:\n",
    "            return x, k, x[-1]\n",
    "        d = np.linalg.solve(H_f, del_f)\n",
    "        x.append(x[k] - d)\n",
    "        del_f = calc_df(x[k+1][0][0], x[k+1][1][0])\n",
    "        H_f = calc_hessian(x[k+1][0][0], x[k+1][1][0])\n",
    "    print(f'k:{k}')\n",
    "    return x, k, x[-1]\n",
    "\n",
    "def newton_pipeline(x0: np.ndarray, eps: float = 1e-6, max_iter: int=100):\n",
    "    del_f, H_f = calc_prereq(x0)\n",
    "    return newton(x0, del_f, H_f)"
   ]
  },
  {
   "cell_type": "code",
   "execution_count": 9,
   "id": "3a260fde",
   "metadata": {},
   "outputs": [],
   "source": [
    "x0=[np.array([[1],[1]]), np.array([[1],[-1]]), np.array([[2],[-2]])]"
   ]
  },
  {
   "cell_type": "code",
   "execution_count": 20,
   "id": "6c6e0d20",
   "metadata": {},
   "outputs": [],
   "source": [
    "newton_ans = {}\n",
    "cnt = 0\n",
    "for xi in x0:\n",
    "    newton_output = newton_pipeline(x0=xi)\n",
    "    newton_ans[cnt] = {\n",
    "        'x0': xi,\n",
    "        'newton': newton_output,\n",
    "        'iteration': newton_output[1],\n",
    "        'optimal value': newton_output[2]\n",
    "    }\n",
    "    cnt = cnt + 1"
   ]
  },
  {
   "cell_type": "code",
   "execution_count": 25,
   "id": "80e55ee0",
   "metadata": {},
   "outputs": [
    {
     "data": {
      "text/plain": [
       "{0: {'x0': array([[1],\n",
       "         [1]]),\n",
       "  'newton': ([array([[1],\n",
       "           [1]]),\n",
       "    array([[0.53846154],\n",
       "           [0.53846154]]),\n",
       "    array([[0.25028589],\n",
       "           [0.25028589]]),\n",
       "    array([[0.08710246],\n",
       "           [0.08710246]]),\n",
       "    array([[0.01620003],\n",
       "           [0.01620003]]),\n",
       "    array([[0.00073202],\n",
       "           [0.00073202]]),\n",
       "    array([[1.60210289e-06],\n",
       "           [1.60210289e-06]]),\n",
       "    array([[7.70014343e-12],\n",
       "           [7.70014343e-12]])],\n",
       "   7,\n",
       "   array([[7.70014343e-12],\n",
       "          [7.70014343e-12]])),\n",
       "  'iteration': 7,\n",
       "  'optimal value': array([[7.70014343e-12],\n",
       "         [7.70014343e-12]])},\n",
       " 1: {'x0': array([[ 1],\n",
       "         [-1]]),\n",
       "  'newton': ([array([[ 1],\n",
       "           [-1]]),\n",
       "    array([[0.53846154],\n",
       "           [0.53846154]]),\n",
       "    array([[0.25028589],\n",
       "           [0.25028589]]),\n",
       "    array([[0.08710246],\n",
       "           [0.08710246]]),\n",
       "    array([[0.01620003],\n",
       "           [0.01620003]]),\n",
       "    array([[0.00073202],\n",
       "           [0.00073202]]),\n",
       "    array([[1.60210289e-06],\n",
       "           [1.60210289e-06]]),\n",
       "    array([[7.70014343e-12],\n",
       "           [7.70014343e-12]])],\n",
       "   7,\n",
       "   array([[7.70014343e-12],\n",
       "          [7.70014343e-12]])),\n",
       "  'iteration': 7,\n",
       "  'optimal value': array([[7.70014343e-12],\n",
       "         [7.70014343e-12]])},\n",
       " 2: {'x0': array([[ 2],\n",
       "         [-2]]),\n",
       "  'newton': ([array([[ 2],\n",
       "           [-2]]),\n",
       "    array([[1.18918919],\n",
       "           [1.18918919]]),\n",
       "    array([[0.66000444],\n",
       "           [0.66000444]]),\n",
       "    array([[0.32439061],\n",
       "           [0.32439061]]),\n",
       "    array([[0.12640158],\n",
       "           [0.12640158]]),\n",
       "    array([[0.03020608],\n",
       "           [0.03020608]]),\n",
       "    array([[0.00239946],\n",
       "           [0.00239946]]),\n",
       "    array([[1.70809427e-05],\n",
       "           [1.70809427e-05]]),\n",
       "    array([[8.7520605e-10],\n",
       "           [8.7520605e-10]])],\n",
       "   8,\n",
       "   array([[8.7520605e-10],\n",
       "          [8.7520605e-10]])),\n",
       "  'iteration': 8,\n",
       "  'optimal value': array([[8.7520605e-10],\n",
       "         [8.7520605e-10]])}}"
      ]
     },
     "execution_count": 25,
     "metadata": {},
     "output_type": "execute_result"
    }
   ],
   "source": [
    "newton_ans"
   ]
  },
  {
   "cell_type": "code",
   "execution_count": 22,
   "id": "1f8ef0c9",
   "metadata": {},
   "outputs": [
    {
     "data": {
      "text/plain": [
       "{'x0': array([[1],\n",
       "        [1]]),\n",
       " 'newton': ([array([[1],\n",
       "          [1]]),\n",
       "   array([[0.53846154],\n",
       "          [0.53846154]]),\n",
       "   array([[0.25028589],\n",
       "          [0.25028589]]),\n",
       "   array([[0.08710246],\n",
       "          [0.08710246]]),\n",
       "   array([[0.01620003],\n",
       "          [0.01620003]]),\n",
       "   array([[0.00073202],\n",
       "          [0.00073202]]),\n",
       "   array([[1.60210289e-06],\n",
       "          [1.60210289e-06]]),\n",
       "   array([[7.70014343e-12],\n",
       "          [7.70014343e-12]])],\n",
       "  7,\n",
       "  array([[7.70014343e-12],\n",
       "         [7.70014343e-12]])),\n",
       " 'iteration': 7,\n",
       " 'optimal value': array([[7.70014343e-12],\n",
       "        [7.70014343e-12]])}"
      ]
     },
     "execution_count": 22,
     "metadata": {},
     "output_type": "execute_result"
    }
   ],
   "source": [
    "newton_ans[0]"
   ]
  },
  {
   "cell_type": "code",
   "execution_count": 35,
   "id": "197d0612",
   "metadata": {},
   "outputs": [
    {
     "name": "stdout",
     "output_type": "stream",
     "text": [
      "[[0.53846154]\n",
      " [0.53846154]]\n",
      "[[7.70014343e-12]\n",
      " [7.70014343e-12]]\n",
      "[[0.25028589]\n",
      " [0.25028589]]\n",
      "[[7.70014343e-12]\n",
      " [7.70014343e-12]]\n",
      "[[0.08710246]\n",
      " [0.08710246]]\n",
      "[[7.70014343e-12]\n",
      " [7.70014343e-12]]\n",
      "[[0.01620003]\n",
      " [0.01620003]]\n",
      "[[7.70014343e-12]\n",
      " [7.70014343e-12]]\n",
      "[[0.00073202]\n",
      " [0.00073202]]\n",
      "[[7.70014343e-12]\n",
      " [7.70014343e-12]]\n",
      "[[1.60210289e-06]\n",
      " [1.60210289e-06]]\n",
      "[[7.70014343e-12]\n",
      " [7.70014343e-12]]\n",
      "[[0.53846154]\n",
      " [0.53846154]]\n",
      "[[7.70014343e-12]\n",
      " [7.70014343e-12]]\n",
      "[[0.25028589]\n",
      " [0.25028589]]\n",
      "[[7.70014343e-12]\n",
      " [7.70014343e-12]]\n",
      "[[0.08710246]\n",
      " [0.08710246]]\n",
      "[[7.70014343e-12]\n",
      " [7.70014343e-12]]\n",
      "[[0.01620003]\n",
      " [0.01620003]]\n",
      "[[7.70014343e-12]\n",
      " [7.70014343e-12]]\n",
      "[[0.00073202]\n",
      " [0.00073202]]\n",
      "[[7.70014343e-12]\n",
      " [7.70014343e-12]]\n",
      "[[1.60210289e-06]\n",
      " [1.60210289e-06]]\n",
      "[[7.70014343e-12]\n",
      " [7.70014343e-12]]\n",
      "[[1.18918919]\n",
      " [1.18918919]]\n",
      "[[8.7520605e-10]\n",
      " [8.7520605e-10]]\n",
      "[[0.66000444]\n",
      " [0.66000444]]\n",
      "[[8.7520605e-10]\n",
      " [8.7520605e-10]]\n",
      "[[0.32439061]\n",
      " [0.32439061]]\n",
      "[[8.7520605e-10]\n",
      " [8.7520605e-10]]\n",
      "[[0.12640158]\n",
      " [0.12640158]]\n",
      "[[8.7520605e-10]\n",
      " [8.7520605e-10]]\n",
      "[[0.03020608]\n",
      " [0.03020608]]\n",
      "[[8.7520605e-10]\n",
      " [8.7520605e-10]]\n",
      "[[0.00239946]\n",
      " [0.00239946]]\n",
      "[[8.7520605e-10]\n",
      " [8.7520605e-10]]\n",
      "[[1.70809427e-05]\n",
      " [1.70809427e-05]]\n",
      "[[8.7520605e-10]\n",
      " [8.7520605e-10]]\n"
     ]
    }
   ],
   "source": [
    "# Checking quadratic convergence\n",
    "lhs= []\n",
    "rhs= []\n",
    "for idx in newton_ans:\n",
    "    len1 = newton_ans[idx]['iteration']\n",
    "    opt_x = newton_ans[idx]['optimal value']\n",
    "    newton_all = newton_ans[idx]['newton'][0]\n",
    "    for i in range(len1-1):\n",
    "        print(newton_all[i+1])\n",
    "        print(opt_x)\n",
    "        lhs.append(np.linalg.norm(newton_all[i+1] - opt_x, ord=2))\n",
    "        rhs.append(np.linalg.norm(newton_all[i] - opt_x, ord=2)**2)"
   ]
  },
  {
   "cell_type": "code",
   "execution_count": 36,
   "id": "9df3bc55",
   "metadata": {},
   "outputs": [
    {
     "data": {
      "text/plain": [
       "[0.7614996104977,\n",
       " 0.353957698035224,\n",
       " 0.1231814852175219,\n",
       " 0.022910301866658187,\n",
       " 0.0010352376939041503,\n",
       " 2.2657047440248075e-06,\n",
       " 0.7614996104977,\n",
       " 0.353957698035224,\n",
       " 0.1231814852175219,\n",
       " 0.022910301866658187,\n",
       " 0.0010352376939041503,\n",
       " 2.2657047440248075e-06,\n",
       " 1.6817674783410876,\n",
       " 0.9333872326268737,\n",
       " 0.45875760460950754,\n",
       " 0.17875882308823446,\n",
       " 0.04271784075224587,\n",
       " 0.0033933436442258745,\n",
       " 2.4154863133415692e-05]"
      ]
     },
     "execution_count": 36,
     "metadata": {},
     "output_type": "execute_result"
    }
   ],
   "source": [
    "lhs"
   ]
  },
  {
   "cell_type": "code",
   "execution_count": 37,
   "id": "3e6f4fe6",
   "metadata": {},
   "outputs": [
    {
     "data": {
      "text/plain": [
       "[1.9999999999691995,\n",
       " 0.5798816567881487,\n",
       " 0.1252860519983948,\n",
       " 0.015173678300394566,\n",
       " 0.0005248819316214016,\n",
       " 1.0717170828799833e-06,\n",
       " 1.9999999999999996,\n",
       " 0.5798816567881487,\n",
       " 0.1252860519983948,\n",
       " 0.015173678300394566,\n",
       " 0.0005248819316214016,\n",
       " 1.0717170828799833e-06,\n",
       " 8.000000000000002,\n",
       " 2.8283418512057406,\n",
       " 0.8712117260308537,\n",
       " 0.21045853978705326,\n",
       " 0.0319547168318907,\n",
       " 0.001824813918534238,\n",
       " 1.1514781087808138e-05]"
      ]
     },
     "execution_count": 37,
     "metadata": {},
     "output_type": "execute_result"
    }
   ],
   "source": [
    "rhs"
   ]
  },
  {
   "cell_type": "code",
   "execution_count": 51,
   "id": "6474bc96",
   "metadata": {},
   "outputs": [],
   "source": [
    "import matplotlib.pyplot as plt"
   ]
  },
  {
   "cell_type": "code",
   "execution_count": 49,
   "id": "efac3988",
   "metadata": {},
   "outputs": [],
   "source": [
    "# plt.plot(range(len(lhs)), lhs)\n",
    "# plt.show()"
   ]
  },
  {
   "cell_type": "code",
   "execution_count": 50,
   "id": "f163414a",
   "metadata": {},
   "outputs": [],
   "source": [
    "# plt.plot(range(len(rhs)), rhs)\n",
    "# plt.show()"
   ]
  },
  {
   "cell_type": "code",
   "execution_count": 46,
   "id": "21c233bb",
   "metadata": {},
   "outputs": [
    {
     "data": {
      "image/png": "[encoded data removed]",
      "text/plain": [
       "<Figure size 640x480 with 1 Axes>"
      ]
     },
     "metadata": {},
     "output_type": "display_data"
    }
   ],
   "source": [
    "plt.plot(range(len(lhs)), lhs, label='present error')\n",
    "plt.plot(range(len(rhs)), rhs, label='previous error')\n",
    "plt.legend()\n",
    "plt.show()"
   ]
  },
  {
   "cell_type": "code",
   "execution_count": null,
   "id": "b61b0c65",
   "metadata": {},
   "outputs": [],
   "source": []
  }
 ],
 "metadata": {
  "kernelspec": {
   "display_name": "Python 3 (ipykernel)",
   "language": "python",
   "name": "python3"
  },
  "language_info": {
   "codemirror_mode": {
    "name": "ipython",
    "version": 3
   },
   "file_extension": ".py",
   "mimetype": "text/x-python",
   "name": "python",
   "nbconvert_exporter": "python",
   "pygments_lexer": "ipython3",
   "version": "3.10.8"
  }
 },
 "nbformat": 4,
 "nbformat_minor": 5
}
